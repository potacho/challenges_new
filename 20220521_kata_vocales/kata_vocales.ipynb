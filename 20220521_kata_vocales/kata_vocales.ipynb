{
 "cells": [
  {
   "cell_type": "markdown",
   "id": "9ee747de",
   "metadata": {},
   "source": [
    "Kata de las Vocales"
   ]
  },
  {
   "cell_type": "code",
   "execution_count": 3,
   "id": "baf3ac55",
   "metadata": {},
   "outputs": [],
   "source": [
    "def vocales(x):\n",
    "    return len([i for i in x if i in 'aeiou'])"
   ]
  },
  {
   "cell_type": "code",
   "execution_count": 4,
   "id": "83481fa4",
   "metadata": {},
   "outputs": [
    {
     "data": {
      "text/plain": [
       "5"
      ]
     },
     "execution_count": 4,
     "metadata": {},
     "output_type": "execute_result"
    }
   ],
   "source": [
    "vocales('aeiou')"
   ]
  },
  {
   "cell_type": "code",
   "execution_count": null,
   "id": "dc3ce836",
   "metadata": {},
   "outputs": [],
   "source": []
  }
 ],
 "metadata": {
  "kernelspec": {
   "display_name": "Python [conda env:.conda-ironhack]",
   "language": "python",
   "name": "conda-env-.conda-ironhack-py"
  },
  "language_info": {
   "codemirror_mode": {
    "name": "ipython",
    "version": 3
   },
   "file_extension": ".py",
   "mimetype": "text/x-python",
   "name": "python",
   "nbconvert_exporter": "python",
   "pygments_lexer": "ipython3",
   "version": "3.7.11"
  }
 },
 "nbformat": 4,
 "nbformat_minor": 5
}
